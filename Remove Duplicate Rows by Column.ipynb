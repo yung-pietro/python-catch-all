{
 "cells": [
  {
   "cell_type": "code",
   "execution_count": 1,
   "metadata": {},
   "outputs": [],
   "source": [
    "import pandas as pd"
   ]
  },
  {
   "cell_type": "code",
   "execution_count": 4,
   "metadata": {},
   "outputs": [],
   "source": [
    "df = pd.read_csv('data/FRASES_PALABRAS_HARRYPOTTER.csv')\n",
    "#illustrate how path reading works for CSVs"
   ]
  },
  {
   "cell_type": "code",
   "execution_count": 6,
   "metadata": {},
   "outputs": [
    {
     "data": {
      "text/html": [
       "<div>\n",
       "<style scoped>\n",
       "    .dataframe tbody tr th:only-of-type {\n",
       "        vertical-align: middle;\n",
       "    }\n",
       "\n",
       "    .dataframe tbody tr th {\n",
       "        vertical-align: top;\n",
       "    }\n",
       "\n",
       "    .dataframe thead th {\n",
       "        text-align: right;\n",
       "    }\n",
       "</style>\n",
       "<table border=\"1\" class=\"dataframe\">\n",
       "  <thead>\n",
       "    <tr style=\"text-align: right;\">\n",
       "      <th></th>\n",
       "      <th>ENGLISH</th>\n",
       "      <th>SPANISH</th>\n",
       "      <th>NOTE</th>\n",
       "    </tr>\n",
       "  </thead>\n",
       "  <tbody>\n",
       "    <tr>\n",
       "      <th>0</th>\n",
       "      <td>Meteor shower</td>\n",
       "      <td>¡ha caído un chaparrón de estrellas fugaces!</td>\n",
       "      <td>NaN</td>\n",
       "    </tr>\n",
       "    <tr>\n",
       "      <th>1</th>\n",
       "      <td>You too!</td>\n",
       "      <td>¡igual!</td>\n",
       "      <td>NaN</td>\n",
       "    </tr>\n",
       "    <tr>\n",
       "      <th>2</th>\n",
       "      <td>Over the past few years</td>\n",
       "      <td>A lo largo de los ultimos anos</td>\n",
       "      <td>NaN</td>\n",
       "    </tr>\n",
       "    <tr>\n",
       "      <th>3</th>\n",
       "      <td>Maybe his was Harvey</td>\n",
       "      <td>A lo mejor se llamaba Harvey.</td>\n",
       "      <td>NaN</td>\n",
       "    </tr>\n",
       "    <tr>\n",
       "      <th>4</th>\n",
       "      <td>around him/her</td>\n",
       "      <td>a su alrededor</td>\n",
       "      <td>NaN</td>\n",
       "    </tr>\n",
       "  </tbody>\n",
       "</table>\n",
       "</div>"
      ],
      "text/plain": [
       "                   ENGLISH                                       SPANISH NOTE\n",
       "0            Meteor shower  ¡ha caído un chaparrón de estrellas fugaces!  NaN\n",
       "1                 You too!                                       ¡igual!  NaN\n",
       "2  Over the past few years                A lo largo de los ultimos anos  NaN\n",
       "3     Maybe his was Harvey                 A lo mejor se llamaba Harvey.  NaN\n",
       "4           around him/her                                a su alrededor  NaN"
      ]
     },
     "execution_count": 6,
     "metadata": {},
     "output_type": "execute_result"
    }
   ],
   "source": [
    "#check structure\n",
    "df.head()"
   ]
  },
  {
   "cell_type": "markdown",
   "metadata": {},
   "source": [
    "https://jamesrledoux.com/code/drop_duplicates\n",
    "Outlines dropping duplicates and "
   ]
  },
  {
   "cell_type": "code",
   "execution_count": 7,
   "metadata": {},
   "outputs": [
    {
     "name": "stdout",
     "output_type": "stream",
     "text": [
      "<class 'pandas.core.frame.DataFrame'>\n",
      "RangeIndex: 415 entries, 0 to 414\n",
      "Data columns (total 3 columns):\n",
      "ENGLISH    132 non-null object\n",
      "SPANISH    415 non-null object\n",
      "NOTE       8 non-null object\n",
      "dtypes: object(3)\n",
      "memory usage: 9.8+ KB\n"
     ]
    }
   ],
   "source": [
    "df.info()"
   ]
  },
  {
   "cell_type": "code",
   "execution_count": 10,
   "metadata": {},
   "outputs": [
    {
     "name": "stdout",
     "output_type": "stream",
     "text": [
      "Duplicate Rows based on a single column are:\n",
      "          ENGLISH   SPANISH NOTE\n",
      "18   To be enough  Alcanzar  NaN\n",
      "156      Followed   seguido  NaN\n"
     ]
    }
   ],
   "source": [
    "#Identify duplicate rows by column\n",
    "#how to insert column name in my print statement?\n",
    "\n",
    "duplicates = df[df.duplicated(['SPANISH'])]\n",
    "print(\"Duplicate Rows based on column SPANISH are:\", duplicates, sep='\\n')"
   ]
  },
  {
   "cell_type": "code",
   "execution_count": 14,
   "metadata": {},
   "outputs": [
    {
     "name": "stdout",
     "output_type": "stream",
     "text": [
      "<class 'pandas.core.frame.DataFrame'>\n",
      "Int64Index: 413 entries, 0 to 414\n",
      "Data columns (total 3 columns):\n",
      "ENGLISH    130 non-null object\n",
      "SPANISH    413 non-null object\n",
      "NOTE       8 non-null object\n",
      "dtypes: object(3)\n",
      "memory usage: 12.9+ KB\n"
     ]
    }
   ],
   "source": [
    "deduped = df.drop_duplicates('SPANISH', keep='first')\n",
    "deduped.info()\n",
    "#how do I remove duplicate rows optimizing for rows that don't have other values in other columns?"
   ]
  },
  {
   "cell_type": "code",
   "execution_count": 15,
   "metadata": {},
   "outputs": [],
   "source": [
    "#now dataframe to CSV\n",
    "#https://pandas.pydata.org/pandas-docs/stable/reference/api/pandas.DataFrame.to_csv.html\n",
    "export = deduped.to_csv(r'data/CLEAN_FRASES_PALABRAS_HARRYPOTTER.csv')"
   ]
  },
  {
   "cell_type": "code",
   "execution_count": 16,
   "metadata": {},
   "outputs": [
    {
     "name": "stdout",
     "output_type": "stream",
     "text": [
      "<class 'pandas.core.frame.DataFrame'>\n",
      "RangeIndex: 413 entries, 0 to 412\n",
      "Data columns (total 4 columns):\n",
      "Unnamed: 0    413 non-null int64\n",
      "ENGLISH       130 non-null object\n",
      "SPANISH       413 non-null object\n",
      "NOTE          8 non-null object\n",
      "dtypes: int64(1), object(3)\n",
      "memory usage: 13.0+ KB\n"
     ]
    }
   ],
   "source": [
    "df_check = pd.read_csv('data/CLEAN_FRASES_PALABRAS_HARRYPOTTER.csv')\n",
    "df_check.info()"
   ]
  },
  {
   "cell_type": "code",
   "execution_count": null,
   "metadata": {},
   "outputs": [],
   "source": [
    "#next thing could be to order by single words\n"
   ]
  }
 ],
 "metadata": {
  "kernelspec": {
   "display_name": "Python 3",
   "language": "python",
   "name": "python3"
  },
  "language_info": {
   "codemirror_mode": {
    "name": "ipython",
    "version": 3
   },
   "file_extension": ".py",
   "mimetype": "text/x-python",
   "name": "python",
   "nbconvert_exporter": "python",
   "pygments_lexer": "ipython3",
   "version": "3.7.3"
  }
 },
 "nbformat": 4,
 "nbformat_minor": 2
}
